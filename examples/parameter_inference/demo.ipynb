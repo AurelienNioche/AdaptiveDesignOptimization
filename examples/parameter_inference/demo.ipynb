{
 "cells": [
  {
   "cell_type": "code",
   "execution_count": 18,
   "metadata": {},
   "outputs": [],
   "source": [
    "import os\n",
    "import sys\n",
    "import numpy as np\n",
    "import itertools\n",
    "from scipy.special import logsumexp\n",
    "import matplotlib.pyplot as plt\n",
    "from tqdm import tqdm"
   ]
  },
  {
   "cell_type": "markdown",
   "metadata": {
    "pycharm": {
     "name": "#%% md\n"
    }
   },
   "source": [
    "### Definition of the probability to have an observation\n",
    "\n",
    "\\begin{equation}\n",
    "p(x) = \\frac{1}{1 + e^{-(b_0 + b_1 x)}}\n",
    "\\end{equation}\n",
    "with $b_0$, $b_1$ the free parameters"
   ]
  },
  {
   "cell_type": "code",
   "execution_count": 19,
   "metadata": {},
   "outputs": [],
   "source": [
    "def p_obs(x, param):\n",
    "    \n",
    "    b0, b1 = param\n",
    "    logit = b0 + x * b1\n",
    "    _p_obs = 1. / (1 + np.exp(-logit))\n",
    "    return _p_obs"
   ]
  },
  {
   "cell_type": "markdown",
   "source": [
    "### Define parameters of the experiments"
   ],
   "metadata": {
    "collapsed": false
   }
  },
  {
   "cell_type": "code",
   "execution_count": null,
   "outputs": [],
   "source": [
    "# Seed the random number generator\n",
    "np.random.seed(123)\n",
    "\n",
    "# Define design space\n",
    "n_design = 100\n",
    "bounds_design = -10, 10\n",
    "design = np.linspace(*bounds_design, n_design)\n",
    "\n",
    "# Define parameter space\n",
    "bounds_param = (-10, 10), (-10, 10)\n",
    "grid = np.array(list(itertools.product(\n",
    "    *(np.linspace(*b, 100) for b in bounds_param))))\n",
    "n_param_set, n_param = grid.shape\n",
    "\n",
    "# Set the number of trial\n",
    "n_trial = 500\n",
    "\n",
    "# Here are the true parameters that are assumed to be unknown\n",
    "param = [2.0, 1.0]  "
   ],
   "metadata": {
    "collapsed": false,
    "pycharm": {
     "name": "#%%\n"
    }
   }
  },
  {
   "cell_type": "markdown",
   "source": [
    "### Show the value of $p$ against the design space\n",
    "using the true parameters"
   ],
   "metadata": {
    "collapsed": false
   }
  },
  {
   "cell_type": "code",
   "execution_count": null,
   "outputs": [],
   "source": [
    "fig, ax = plt.subplots()\n",
    "x = design\n",
    "y = p_obs(x=x, param=param)\n",
    "ax.plot(x, y)\n",
    "ax.set_xlabel(\"x\")\n",
    "ax.set_ylabel(\"p\")\n",
    "ax.set_ylim(-0.01, 1.01)\n",
    "plt.show()"
   ],
   "metadata": {
    "collapsed": false,
    "pycharm": {
     "name": "#%%\n"
    }
   }
  },
  {
   "cell_type": "markdown",
   "source": [
    "### Run the experiment"
   ],
   "metadata": {
    "collapsed": false
   }
  },
  {
   "cell_type": "code",
   "execution_count": null,
   "outputs": [],
   "source": [
    "# Results container\n",
    "engine = ('random', 'ado')\n",
    "means = {e: np.zeros((n_param, n_trial)) for e in engine}\n",
    "stds = {e: np.zeros((n_param, n_trial)) for e in engine}"
   ],
   "metadata": {
    "collapsed": false,
    "pycharm": {
     "name": "#%%\n"
    }
   }
  },
  {
   "cell_type": "code",
   "execution_count": null,
   "outputs": [],
   "source": [
    "# Log-lik\n",
    "p_one = np.array([p_obs(d, param=grid.T)\n",
    "                  for d in design])  # shape: (n design, n param set)\n",
    "p_zero = 1 - p_one\n",
    "\n",
    "p = np.zeros((n_design, n_param_set, 2))\n",
    "p[:, :, 0] = p_zero\n",
    "p[:, :, 1] = p_one\n",
    "log_lik = np.log(p + np.finfo(np.float).eps)"
   ],
   "metadata": {
    "collapsed": false,
    "pycharm": {
     "name": "#%%\n"
    }
   }
  },
  {
   "cell_type": "code",
   "execution_count": null,
   "outputs": [],
   "source": [
    "# Random --------------------------------------------------------\n",
    "\n",
    "# Define initial (log) prior\n",
    "lp = np.ones(n_param_set)\n",
    "lp -= logsumexp(lp)\n",
    "\n",
    "for t in range(n_trial):\n",
    "    \n",
    "    # Pickup the design\n",
    "    d_idx = np.random.randint(n_design)\n",
    "    d = design[d_idx]\n",
    "    \n",
    "    # Produce a response using the true parameters\n",
    "    p_r = p_obs(d, param=param)\n",
    "    resp = p_r > np.random.random()\n",
    "    \n",
    "    # Compute the likelihood of the response\n",
    "    log_lik_r = log_lik[d_idx, :, int(resp)].flatten()\n",
    "    \n",
    "    # Update prior\n",
    "    lp += log_lik_r\n",
    "    lp -= logsumexp(lp)\n",
    "    \n",
    "    # Compute (estimated) expected value for the parameters\n",
    "    ep = np.dot(np.exp(lp), grid)\n",
    "    \n",
    "    # Compute (estimated) standard deviation for the parameters\n",
    "    delta = grid - ep\n",
    "    post_cov = np.dot(delta.T, delta * np.exp(lp).reshape(-1, 1))\n",
    "    sdp = np.sqrt(np.diag(post_cov))\n",
    "    \n",
    "    # Backup for future plot\n",
    "    means['random'][:, t] = ep\n",
    "    stds['random'][:, t] = sdp"
   ],
   "metadata": {
    "collapsed": false,
    "pycharm": {
     "name": "#%%\n"
    }
   }
  },
  {
   "cell_type": "code",
   "execution_count": null,
   "outputs": [],
   "source": [
    "# Ado -----------------------------------------------\n",
    "\n",
    "# Define initial (log) prior\n",
    "lp = np.ones(n_param_set)\n",
    "lp -= logsumexp(lp)\n",
    "\n",
    "# Compute the entropy of the observations\n",
    "ent_obs = -np.multiply(np.exp(log_lik), log_lik).sum(-1)\n",
    "\n",
    "for t in tqdm(range(n_trial), file=sys.stdout):\n",
    "\n",
    "    # Compute the posterior\n",
    "    post = np.exp(lp)\n",
    "\n",
    "    # Compute the marginal log likelihood\n",
    "    extended_lp = np.expand_dims(np.expand_dims(lp, 0), -1)\n",
    "    mll = logsumexp(log_lik + extended_lp, axis=1) # shape (n_design, n_response)\n",
    "\n",
    "    # Compute the marginal entropy and conditional entropy\n",
    "    ent_marg = -np.sum(np.exp(mll) * mll, -1)  # shape (n_design,)\n",
    "    ent_cond = np.sum(post * ent_obs, axis=1)  # shape (n_design,)\n",
    "\n",
    "    # Calculate the mutual information\n",
    "    mutual_info = ent_marg - ent_cond  # shape (num_designs,)\n",
    "    \n",
    "    # Pickup the design\n",
    "    d_idx = np.argmax(mutual_info)\n",
    "    d = design[d_idx]\n",
    "    \n",
    "    # Produce a response using the true parameters\n",
    "    p_r = p_obs(d, param=param)\n",
    "    resp = p_r > np.random.random()\n",
    "    \n",
    "    # Compute the likelihood of the response\n",
    "    log_lik_r = log_lik[d_idx, :, int(resp)].flatten()\n",
    "    \n",
    "    # Update prior\n",
    "    lp += log_lik_r\n",
    "    lp -= logsumexp(lp)\n",
    "    \n",
    "    # Compute (estimated) expected value for the parameters\n",
    "    ep = np.dot(np.exp(lp), grid)\n",
    "    \n",
    "    # Compute (estimated) standard deviation for the parameters\n",
    "    delta = grid - ep\n",
    "    post_cov = np.dot(delta.T, delta * np.exp(lp).reshape(-1, 1))\n",
    "    sdp = np.sqrt(np.diag(post_cov))\n",
    "    \n",
    "    # Backup for future plot\n",
    "    means['ado'][:, t] = ep\n",
    "    stds['ado'][:, t] = sdp"
   ],
   "metadata": {
    "collapsed": false,
    "pycharm": {
     "name": "#%%\n"
    }
   }
  },
  {
   "cell_type": "code",
   "execution_count": null,
   "outputs": [],
   "source": [
    "# Figure -----------------------------------------------\n",
    "\n",
    "fig, axes = plt.subplots(ncols=n_param, figsize=(12, 6))\n",
    "\n",
    "colors = [f'C{i}' for i, e in enumerate(engine)]\n",
    "\n",
    "for i, ax in enumerate(axes):\n",
    "\n",
    "    for j, e in enumerate(engine):\n",
    "\n",
    "        _means = means[e][i, :]\n",
    "        _stds = stds[e][i, :]\n",
    "\n",
    "        true_p = param[i]\n",
    "        ax.axhline(true_p, linestyle='--', color='black', alpha=.2)\n",
    "\n",
    "        ax.plot(_means, color=colors[j], label=e)\n",
    "        ax.fill_between(range(n_trial), _means - _stds,\n",
    "                        _means + _stds, alpha=.2, color=colors[j])\n",
    "\n",
    "        ax.set_title(f'b{i}')\n",
    "        ax.set_xlabel(\"trial\")\n",
    "        ax.set_ylabel(f\"value\")\n",
    "\n",
    "plt.legend()\n",
    "plt.tight_layout()\n",
    "plt.show()"
   ],
   "metadata": {
    "collapsed": false,
    "pycharm": {
     "name": "#%%\n"
    }
   }
  },
  {
   "cell_type": "markdown",
   "metadata": {},
   "source": [
    "# Figure -----------------------------------------------\n",
    "\n",
    "fig, axes = plt.subplots(ncols=n_param, figsize=(12, 6))\n",
    "\n",
    "colors = [f'C{i}' for i, e in enumerate(engine)]\n",
    "\n",
    "for i, ax in enumerate(axes):\n",
    "\n",
    "    for j, e in enumerate(engine):\n",
    "\n",
    "        _means = means[e][i, :]\n",
    "        _stds = stds[e][i, :]\n",
    "\n",
    "        true_p = param[i]\n",
    "        ax.axhline(true_p, linestyle='--', color='black', alpha=.2)\n",
    "\n",
    "        ax.plot(_means, color=colors[j], label=e)\n",
    "        ax.fill_between(range(n_trial), _means - _stds,\n",
    "                        _means + _stds, alpha=.2, color=colors[j])\n",
    "\n",
    "        ax.set_title(f'b{i}')\n",
    "        ax.set_xlabel(\"trial\")\n",
    "        ax.set_ylabel(f\"value\")\n",
    "\n",
    "plt.legend()\n",
    "plt.tight_layout()\n",
    "plt.show()"
   ]
  },
  {
   "cell_type": "code",
   "execution_count": 20,
   "metadata": {},
   "outputs": [],
   "source": [
    "# Seed the random number generator\n",
    "np.random.seed(123)\n",
    "\n",
    "# Define design space\n",
    "n_design = 100\n",
    "bounds_design = -10, 10\n",
    "design = np.linspace(*bounds_design, n_design)\n",
    "\n",
    "# Define parameter space\n",
    "bounds_param = (-10, 10), (-10, 10)\n",
    "grid = np.array(list(itertools.product(\n",
    "    *(np.linspace(*b, 100) for b in bounds_param))))\n",
    "n_param_set, n_param = grid.shape\n",
    "\n",
    "# Set the number of trial\n",
    "n_trial = 500\n",
    "\n",
    "# Here are the true parameters that are assumed to be unknown\n",
    "param = [2.0, 1.0]  "
   ]
  },
  {
   "cell_type": "markdown",
   "metadata": {},
   "source": [
    "### Show the value of $p$ against the design space\n",
    "using the true parameters"
   ]
  },
  {
   "cell_type": "code",
   "execution_count": 21,
   "metadata": {},
   "outputs": [
    {
     "data": {
      "image/png": "[encoded data removed]",
      "text/plain": [
       "<Figure size 432x288 with 1 Axes>"
      ]
     },
     "metadata": {
      "needs_background": "light"
     },
     "output_type": "display_data"
    }
   ],
   "source": [
    "fig, ax = plt.subplots()\n",
    "x = design\n",
    "y = p_obs(x=x, param=param)\n",
    "ax.plot(x, y)\n",
    "ax.set_xlabel(\"x\")\n",
    "ax.set_ylabel(\"p\")\n",
    "ax.set_ylim(-0.01, 1.01)\n",
    "plt.show()"
   ]
  },
  {
   "cell_type": "markdown",
   "metadata": {},
   "source": [
    "### Run the experiment"
   ]
  },
  {
   "cell_type": "code",
   "execution_count": 22,
   "metadata": {},
   "outputs": [],
   "source": [
    "# Results container\n",
    "engine = ('random', 'ado')\n",
    "means = {e: np.zeros((n_param, n_trial)) for e in engine}\n",
    "stds = {e: np.zeros((n_param, n_trial)) for e in engine}"
   ]
  },
  {
   "cell_type": "code",
   "execution_count": 23,
   "metadata": {},
   "outputs": [],
   "source": [
    "# Log-lik\n",
    "p_one = np.array([p_obs(d, param=grid.T)\n",
    "                  for d in design])  # shape: (n design, n param set)\n",
    "p_zero = 1 - p_one\n",
    "\n",
    "p = np.zeros((n_design, n_param_set, 2))\n",
    "p[:, :, 0] = p_zero\n",
    "p[:, :, 1] = p_one\n",
    "log_lik = np.log(p + np.finfo(np.float).eps)"
   ]
  },
  {
   "cell_type": "code",
   "execution_count": 24,
   "metadata": {},
   "outputs": [],
   "source": [
    "# Random --------------------------------------------------------\n",
    "\n",
    "# Define initial (log) prior\n",
    "lp = np.ones(n_param_set)\n",
    "lp -= logsumexp(lp)\n",
    "\n",
    "for t in range(n_trial):\n",
    "    \n",
    "    # Pickup the design\n",
    "    d_idx = np.random.randint(n_design)\n",
    "    d = design[d_idx]\n",
    "    \n",
    "    # Produce a response using the true parameters\n",
    "    p_r = p_obs(d, param=param)\n",
    "    resp = p_r > np.random.random()\n",
    "    \n",
    "    # Compute the likelihood of the response\n",
    "    log_lik_r = log_lik[d_idx, :, int(resp)].flatten()\n",
    "    \n",
    "    # Update prior\n",
    "    lp += log_lik_r\n",
    "    lp -= logsumexp(lp)\n",
    "    \n",
    "    # Compute (estimated) expected value for the parameters\n",
    "    ep = np.dot(np.exp(lp), grid)\n",
    "    \n",
    "    # Compute (estimated) standard deviation for the parameters\n",
    "    delta = grid - ep\n",
    "    post_cov = np.dot(delta.T, delta * np.exp(lp).reshape(-1, 1))\n",
    "    sdp = np.sqrt(np.diag(post_cov))\n",
    "    \n",
    "    # Backup for future plot\n",
    "    means['random'][:, t] = ep\n",
    "    stds['random'][:, t] = sdp"
   ]
  },
  {
   "cell_type": "code",
   "execution_count": 25,
   "metadata": {},
   "outputs": [
    {
     "name": "stdout",
     "output_type": "stream",
     "text": [
      "100%|██████████| 500/500 [00:31<00:00, 16.11it/s]\n"
     ]
    }
   ],
   "source": [
    "# Ado -----------------------------------------------\n",
    "\n",
    "# Define initial (log) prior\n",
    "lp = np.ones(n_param_set)\n",
    "lp -= logsumexp(lp)\n",
    "\n",
    "# Compute the entropy of the observations\n",
    "ent_obs = -np.multiply(np.exp(log_lik), log_lik).sum(-1)\n",
    "\n",
    "for t in tqdm(range(n_trial), file=sys.stdout):\n",
    "\n",
    "    # Compute the posterior\n",
    "    post = np.exp(lp)\n",
    "\n",
    "    # Compute the marginal log likelihood\n",
    "    extended_lp = np.expand_dims(np.expand_dims(lp, 0), -1)\n",
    "    mll = logsumexp(log_lik + extended_lp, axis=1) # shape (n_design, n_response)\n",
    "\n",
    "    # Compute the marginal entropy and conditional entropy\n",
    "    ent_marg = -np.sum(np.exp(mll) * mll, -1)  # shape (n_design,)\n",
    "    ent_cond = np.sum(post * ent_obs, axis=1)  # shape (n_design,)\n",
    "\n",
    "    # Calculate the mutual information\n",
    "    mutual_info = ent_marg - ent_cond  # shape (num_designs,)\n",
    "    \n",
    "    # Pickup the design\n",
    "    d_idx = np.argmax(mutual_info)\n",
    "    d = design[d_idx]\n",
    "    \n",
    "    # Produce a response using the true parameters\n",
    "    p_r = p_obs(d, param=param)\n",
    "    resp = p_r > np.random.random()\n",
    "    \n",
    "    # Compute the likelihood of the response\n",
    "    log_lik_r = log_lik[d_idx, :, int(resp)].flatten()\n",
    "    \n",
    "    # Update prior\n",
    "    lp += log_lik_r\n",
    "    lp -= logsumexp(lp)\n",
    "    \n",
    "    # Compute (estimated) expected value for the parameters\n",
    "    ep = np.dot(np.exp(lp), grid)\n",
    "    \n",
    "    # Compute (estimated) standard deviation for the parameters\n",
    "    delta = grid - ep\n",
    "    post_cov = np.dot(delta.T, delta * np.exp(lp).reshape(-1, 1))\n",
    "    sdp = np.sqrt(np.diag(post_cov))\n",
    "    \n",
    "    # Backup for future plot\n",
    "    means['ado'][:, t] = ep\n",
    "    stds['ado'][:, t] = sdp"
   ]
  },
  {
   "cell_type": "code",
   "execution_count": 26,
   "metadata": {},
   "outputs": [
    {
     "data": {
      "image/png": "[encoded data removed]",
      "text/plain": [
       "<Figure size 864x432 with 2 Axes>"
      ]
     },
     "metadata": {
      "needs_background": "light"
     },
     "output_type": "display_data"
    }
   ],
   "source": [
    "# Figure -----------------------------------------------\n",
    "\n",
    "fig, axes = plt.subplots(ncols=n_param, figsize=(12, 6))\n",
    "\n",
    "colors = [f'C{i}' for i, e in enumerate(engine)]\n",
    "\n",
    "for i, ax in enumerate(axes):\n",
    "\n",
    "    for j, e in enumerate(engine):\n",
    "\n",
    "        _means = means[e][i, :]\n",
    "        _stds = stds[e][i, :]\n",
    "\n",
    "        true_p = param[i]\n",
    "        ax.axhline(true_p, linestyle='--', color='black', alpha=.2)\n",
    "\n",
    "        ax.plot(_means, color=colors[j], label=e)\n",
    "        ax.fill_between(range(n_trial), _means - _stds,\n",
    "                        _means + _stds, alpha=.2, color=colors[j])\n",
    "\n",
    "        ax.set_title(f'b{i}')\n",
    "        ax.set_xlabel(\"trial\")\n",
    "        ax.set_ylabel(f\"value\")\n",
    "\n",
    "plt.legend()\n",
    "plt.tight_layout()\n",
    "plt.show()"
   ]
  }
 ],
 "metadata": {
  "kernelspec": {
   "display_name": "Python 3",
   "language": "python",
   "name": "python3"
  },
  "language_info": {
   "codemirror_mode": {
    "name": "ipython",
    "version": 3
   },
   "file_extension": ".py",
   "mimetype": "text/x-python",
   "name": "python",
   "nbconvert_exporter": "python",
   "pygments_lexer": "ipython3",
   "version": "3.9.0"
  }
 },
 "nbformat": 4,
 "nbformat_minor": 4
}