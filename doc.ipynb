{
 "cells": [
  {
   "cell_type": "code",
   "execution_count": 2,
   "metadata": {},
   "outputs": [],
   "source": [
    "import os\n",
    "import sys\n",
    "import numpy as np\n",
    "from scipy.special import logsumexp\n",
    "import matplotlib.pyplot as plt\n",
    "import pandas as pd\n",
    "from tqdm import tqdm"
   ]
  },
  {
   "cell_type": "markdown",
   "metadata": {},
   "source": [
    "### What do we look for?\n",
    "\n",
    "We look for the optimal design $d^*$ such as:\n",
    "\\begin{equation}\n",
    " d^* = \\arg \\max_{d}{U(d)}\n",
    "\\end{equation}\n",
    "\n",
    "### Define the utility function\n",
    "\n",
    "We define a utility function $U$ as the mutual information of $\\theta$ and $Y\\mid d$:\n",
    "\\begin{equation}\n",
    "    U(d) = I(\\Theta; Y\\mid d)\n",
    "\\end{equation}\n",
    "Y being the possible observations (e.g., behavioral outputs)."
   ]
  },
  {
   "cell_type": "markdown",
   "metadata": {},
   "source": [
    "### Bayesian revision of belief regarding the parameters\n",
    "Supposing that an experiment was carried out with design $d^*$, and an outcome $y_t$ was observed, the prior over $\\theta$ at $t$, $p_t(\\theta)$, is revised the following way:\n",
    "\\begin{equation}\n",
    "     p_{t+1}(\\theta) = \\dfrac{\n",
    "      p(y_t \\mid \\theta, d^*) p_t(\\theta)\n",
    "     }{\n",
    "        \\int p(y_t \\mid \\theta, d^*) p_t(\\theta) d\\theta\n",
    "     }\n",
    "\\end{equation}"
   ]
  },
  {
   "cell_type": "markdown",
   "metadata": {},
   "source": [
    "### Exchanging definitions\n",
    "\n",
    "\\begin{equation}\n",
    "U(d) = \\int \\int u(d, \\theta, y) p(y \\mid \\theta, d) p(\\theta) d\\theta dy\n",
    "\\end{equation}\n",
    "if $U(d) = I(\\Theta; Y\\mid d)$ then $u(d, \\theta, y) = \\log \\left( \\frac{p (\\theta \\mid y, d)}{p(\\theta)} \\right)$\n",
    "which means\n",
    "\n",
    "\\begin{equation}\n",
    "U(d) = I(\\Theta; Y\\mid d) = \\log \\left( \\frac{p (\\theta \\mid y, d)}{p(\\theta)} \\right) p(y \\mid \\theta, d) p(\\theta) d\\theta dy\n",
    "\\end{equation}"
   ]
  },
  {
   "cell_type": "markdown",
   "metadata": {},
   "source": [
    "### With steps...\n",
    "\\begin{equation}\n",
    "\\begin{split}\n",
    "U(d) &= I(\\Theta; Y\\mid d) \\\\\n",
    "&= H(\\Theta) - H(\\Theta \\mid Y, d)\\\\\n",
    "\\end{split}\n",
    "\\end{equation}"
   ]
  },
  {
   "cell_type": "markdown",
   "metadata": {},
   "source": [
    "\\begin{equation}\n",
    "\\begin{split}\n",
    "H(\\Theta) &= - \\int p(\\theta) \\log p(\\theta) d\\theta \\\\\n",
    "&= - \\int p(\\theta) \\log p(\\theta) \\int p(y \\mid \\theta, d) dy d\\theta \\\\\n",
    "&= - \\int \\int p(\\theta) \\log p(\\theta) p(y \\mid \\theta, d) dy d\\theta \\\\\n",
    "&= - \\int \\int p(\\theta) p(y \\mid \\theta, d) \\log p(\\theta) dy d\\theta \\\\\n",
    "\\end{split}\n",
    "\\end{equation}"
   ]
  },
  {
   "cell_type": "markdown",
   "metadata": {},
   "source": [
    "\\begin{equation}\n",
    "\\begin{split}\n",
    "H(\\Theta \\mid Y, d) &= - \\int p(y \\mid d) \\int p( \\theta \\mid y, d) \\log p(\\theta \\mid y, d) dy d\\theta \\\\\n",
    "&=  - \\int p(y \\mid d) \\int p(\\theta) p( y \\mid \\theta, d) \\frac{1}{p(y \\mid d)}   \\log p(\\theta \\mid y, d) dy d\\theta \\\\\n",
    "&=  - \\int \\int p(y \\mid d) p(\\theta) p( y \\mid \\theta, d) \\frac{1}{p(y \\mid d)}   \\log p(\\theta \\mid y, d) dy d\\theta \\\\\n",
    "&= - \\int \\int p(\\theta) p( y \\mid \\theta, d)   \\log p(\\theta \\mid y, d) dy d\\theta \\\\\n",
    "\\end{split}\n",
    "\\end{equation}"
   ]
  },
  {
   "cell_type": "markdown",
   "metadata": {},
   "source": [
    "\\begin{equation}\n",
    "\\begin{split}\n",
    "U(d) &= \\int \\int - p(\\theta) \\log p(\\theta) p(y \\mid \\theta, d) + p(\\theta) p( y \\mid \\theta, d)   \\log p(\\theta \\mid y, d) dy d\\theta \\\\\n",
    "&= \\int \\int - p(\\theta) p(y \\mid \\theta, d) \\log p(\\theta) + p(\\theta) p( y \\mid \\theta, d)   \\log p(\\theta \\mid y, d) dy d\\theta \\\\\n",
    "&= \\int \\int p(\\theta) p(y \\mid \\theta, d) [ \\log p (\\theta \\mid y, d) - \\log p(\\theta) ] dy d\\theta \\\\\n",
    "&= \\int \\int p(\\theta) p(y \\mid \\theta, d) \\log \\frac{p (\\theta \\mid y, d)}{p(\\theta)} dy d\\theta \\\\\n",
    "\\end{split}\n",
    "\\end{equation}"
   ]
  },
  {
   "cell_type": "markdown",
   "metadata": {},
   "source": [
    "### Implementation\n",
    "\n",
    "Implementation follows what has been done in: https://github.com/adopy/adopy\n",
    "\n",
    "Actually, in the implementation, we can use the fact that the mutual information is symetric. Indeed, for any pair of random variables $X$ and $Y$, we have:\n",
    "\n",
    "\\begin{equation}\n",
    "I(X; Y) = H(X) - H(X \\mid Y) = I(Y; X) = H(Y) - H(Y \\mid X)\n",
    "\\end{equation}"
   ]
  },
  {
   "cell_type": "markdown",
   "metadata": {},
   "source": [
    "which means that in our case, we have:\n",
    "\\begin{equation}\n",
    "I(\\Theta; Y \\mid d) = I(Y \\mid d; \\Theta) = H(Y \\mid d) - H(Y \\mid \\Theta, d) \n",
    "\\end{equation}"
   ]
  },
  {
   "cell_type": "markdown",
   "metadata": {},
   "source": [
    "The marginal entropy is:\n",
    "\n",
    "\\begin{equation}\n",
    "   H(Y \\mid d) = - \\int p(y \\mid d) \\log p(y \\mid d) dy\n",
    "\\end{equation}\n",
    "\n",
    "In our implementation, we use log probabilities instead of proabilities, and $Y$ is a discreet space:\n",
    "\\begin{equation}\n",
    "   H(Y \\mid d) =  - \\sum_{y \\in Y} \\exp[\\log p(y \\mid d)] \\log p(y \\mid d)\n",
    "\\end{equation}"
   ]
  },
  {
   "cell_type": "markdown",
   "metadata": {},
   "source": [
    "The conditional entropy of $Y$ given the outcome random variable $\\Theta$ and design $d$ is:\n",
    "\\begin{equation}\n",
    "        H(Y \\mid \\Theta, d) = - \\int p(\\theta) \\int p(y\\mid \\theta, d) \\log p(y\\mid \\theta, d) dyd\\theta\n",
    "\\end{equation}\n",
    "\n",
    "In our implementation, we use log probabilities instead of proabilities, and $Y$ is a discreet space, and since we use a grid exploration technique, $\\Theta$ is also considered to be a discreet space:\n",
    "\\begin{equation}\n",
    "H(Y \\mid \\Theta, d) = - \\sum_{\\theta \\in \\Theta} \\exp[\\log p(\\theta)] \\sum_{y\\in Y} \\exp[ \\log p(y\\mid \\theta, d)] \\log p(y\\mid \\theta, d)\n",
    "\\end{equation}"
   ]
  },
  {
   "cell_type": "markdown",
   "metadata": {},
   "source": [
    "### From parameter estimation to model selection\n",
    "\n",
    "\\begin{equation}\n",
    "     U(d) = \\sum_m p(m) \\int \\int u(d, \\theta_m, y_m) p(y_m \\mid \\theta_m, d) p_{\\theta_m} dy_m d\\theta_m,\n",
    "\\end{equation}\n",
    "where m = {1, 2, ..., K} is one of a set of K models "
   ]
  },
  {
   "cell_type": "markdown",
   "metadata": {},
   "source": [
    "\\begin{equation}\n",
    "\\begin{split}\n",
    "U(d) &= I(M; Y\\mid d) \\\\\n",
    "u(d, \\theta_m, y_m) &= \\log \\frac{p(m \\mid y, d)}{p(m)}\n",
    "\\end{split}\n",
    "\\end{equation}\n",
    "\n",
    "where $I(M; Y |d)$ is the mutual information between the model random variable M and the outcome random variable conditional upon design d, Y |d. \n",
    "\n",
    "$p(m \\mid y, d)$ is the posterior model probability of model $m$ obtained by Bayes rule as:\n",
    "\\begin{equation}\n",
    "p(m|y, d) = \\frac{p(y|m, d)p(m)}{p(y|d)} \n",
    "\\end{equation}\n",
    "\n",
    "where\n",
    "\\begin{equation}\n",
    "p(y|m, d) = \\int p(y| \\theta_m, d)p(\\theta_m) d\\theta_m \n",
    "\\end{equation}\n",
    "\n",
    "\\begin{equation}\n",
    "p(y|d) = \\sum_m p(y|m, d)p(m)\n",
    "\\end{equation}"
   ]
  },
  {
   "cell_type": "markdown",
   "metadata": {},
   "source": [
    "### Bayesian update of belief regarding the model\n",
    "\n",
    "\\begin{equation}\n",
    "p_{t+1}(m) = \\frac{p_1(m)}{\\sum_{k=1}^K p_1(k) BF_{(k, m)}(y_t \\mid d^*)}\n",
    "\\end{equation}"
   ]
  },
  {
   "cell_type": "markdown",
   "metadata": {},
   "source": [
    "\\begin{equation}\n",
    "BF(k,m) (y \\mid d) = \\frac{\\int p(y \\mid \\theta_k, d) p(\\theta_k) d\\theta_k}{\\int p(y \\mid \\theta_m, d) p(\\theta_m) d\\theta_m} \n",
    "\\end{equation}"
   ]
  },
  {
   "cell_type": "markdown",
   "metadata": {},
   "source": [
    "### Implementation\n",
    "\\begin{equation}\n",
    "\\log p_{t+1}(m) = \\log p_1(m) - \\log \\sum_{k=1}^K \\exp \\left(log p_1(k) + \\log \\sum_{\\theta \\in \\Theta_k} \\exp[\\log p(y\\mid \\theta, d) + \\log p (\\theta)]  - \\log \\sum_{\\theta \\in \\Theta_m} \\exp[\\log p(y\\mid \\theta, d) + \\log p (\\theta)]  \\right)\n",
    "\\end{equation}"
   ]
  },
  {
   "cell_type": "code",
   "execution_count": null,
   "metadata": {},
   "outputs": [],
   "source": []
  }
 ],
 "metadata": {
  "kernelspec": {
   "display_name": "Python 3",
   "language": "python",
   "name": "python3"
  },
  "language_info": {
   "codemirror_mode": {
    "name": "ipython",
    "version": 3
   },
   "file_extension": ".py",
   "mimetype": "text/x-python",
   "name": "python",
   "nbconvert_exporter": "python",
   "pygments_lexer": "ipython3",
   "version": "3.9.0"
  }
 },
 "nbformat": 4,
 "nbformat_minor": 4
}
